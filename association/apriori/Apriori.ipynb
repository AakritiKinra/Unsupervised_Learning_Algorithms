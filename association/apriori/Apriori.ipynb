{
  "nbformat": 4,
  "nbformat_minor": 0,
  "metadata": {
    "colab": {
      "name": "Apriori.ipynb",
      "provenance": [],
      "collapsed_sections": []
    },
    "kernelspec": {
      "name": "python3",
      "display_name": "Python 3"
    },
    "accelerator": "GPU"
  },
  "cells": [
    {
      "cell_type": "markdown",
      "metadata": {
        "id": "-B6ObNLjObwd",
        "colab_type": "text"
      },
      "source": [
        "# Apriori Algorithm\n",
        "\n",
        "This code is just to give you an intuition of how Apriori algorithm works. \n",
        "\n",
        "We will run it for two iterations, that is, we will only find frequent itemsets for pairs."
      ]
    },
    {
      "cell_type": "code",
      "metadata": {
        "id": "DXh5EzCq7M7B",
        "colab_type": "code",
        "colab": {}
      },
      "source": [
        "from itertools import combinations\n",
        "import pandas as pd \n",
        "from collections import defaultdict\n",
        "from operator import itemgetter"
      ],
      "execution_count": null,
      "outputs": []
    },
    {
      "cell_type": "markdown",
      "metadata": {
        "id": "o5KyhnmUKyf3",
        "colab_type": "text"
      },
      "source": [
        "\n",
        "\n",
        "\n",
        "*   Upload your dataset in your drive\n",
        "*   Change the path variable to the path to your dataset\n",
        "\n",
        "\n",
        "\n"
      ]
    },
    {
      "cell_type": "code",
      "metadata": {
        "id": "8IChaBlW_hTG",
        "colab_type": "code",
        "colab": {
          "base_uri": "https://localhost:8080/",
          "height": 34
        },
        "outputId": "1b730d34-e993-4dd1-ae10-1219cb57b8c7"
      },
      "source": [
        "from google.colab import drive\n",
        "drive.mount('/content/drive')"
      ],
      "execution_count": null,
      "outputs": [
        {
          "output_type": "stream",
          "text": [
            "Mounted at /content/drive\n"
          ],
          "name": "stdout"
        }
      ]
    },
    {
      "cell_type": "code",
      "metadata": {
        "id": "FVLbD7lkASOs",
        "colab_type": "code",
        "colab": {}
      },
      "source": [
        "path = \"/content/drive/My Drive/Data/Apriori/groceries.csv\""
      ],
      "execution_count": null,
      "outputs": []
    },
    {
      "cell_type": "code",
      "metadata": {
        "id": "id2fbYdhYgLU",
        "colab_type": "code",
        "colab": {
          "base_uri": "https://localhost:8080/",
          "height": 204
        },
        "outputId": "24b66bd2-b725-42ee-b2f1-d12e659f3673"
      },
      "source": [
        "groceries_file = pd.read_csv(path,names=[\"Items\"],header = None , sep =\";\")\n",
        "groceries_file.head()"
      ],
      "execution_count": null,
      "outputs": [
        {
          "output_type": "execute_result",
          "data": {
            "text/html": [
              "<div>\n",
              "<style scoped>\n",
              "    .dataframe tbody tr th:only-of-type {\n",
              "        vertical-align: middle;\n",
              "    }\n",
              "\n",
              "    .dataframe tbody tr th {\n",
              "        vertical-align: top;\n",
              "    }\n",
              "\n",
              "    .dataframe thead th {\n",
              "        text-align: right;\n",
              "    }\n",
              "</style>\n",
              "<table border=\"1\" class=\"dataframe\">\n",
              "  <thead>\n",
              "    <tr style=\"text-align: right;\">\n",
              "      <th></th>\n",
              "      <th>Items</th>\n",
              "    </tr>\n",
              "  </thead>\n",
              "  <tbody>\n",
              "    <tr>\n",
              "      <th>0</th>\n",
              "      <td>citrus fruit,semi-finished bread,margarine,rea...</td>\n",
              "    </tr>\n",
              "    <tr>\n",
              "      <th>1</th>\n",
              "      <td>tropical fruit,yogurt,coffee</td>\n",
              "    </tr>\n",
              "    <tr>\n",
              "      <th>2</th>\n",
              "      <td>whole milk</td>\n",
              "    </tr>\n",
              "    <tr>\n",
              "      <th>3</th>\n",
              "      <td>pip fruit,yogurt,cream cheese,meat spreads</td>\n",
              "    </tr>\n",
              "    <tr>\n",
              "      <th>4</th>\n",
              "      <td>other vegetables,whole milk,condensed milk,lon...</td>\n",
              "    </tr>\n",
              "  </tbody>\n",
              "</table>\n",
              "</div>"
            ],
            "text/plain": [
              "                                               Items\n",
              "0  citrus fruit,semi-finished bread,margarine,rea...\n",
              "1                       tropical fruit,yogurt,coffee\n",
              "2                                         whole milk\n",
              "3         pip fruit,yogurt,cream cheese,meat spreads\n",
              "4  other vegetables,whole milk,condensed milk,lon..."
            ]
          },
          "metadata": {
            "tags": []
          },
          "execution_count": 6
        }
      ]
    },
    {
      "cell_type": "markdown",
      "metadata": {
        "id": "bhC5FU3fLUKb",
        "colab_type": "text"
      },
      "source": [
        "Here, we convert our dataframe to a list"
      ]
    },
    {
      "cell_type": "code",
      "metadata": {
        "id": "BQ7uwOC9ZNvg",
        "colab_type": "code",
        "colab": {}
      },
      "source": [
        "data = []\n",
        "sentences = list(groceries_file['Items'])\n",
        "for sen in sentences:\n",
        "    data.append(sen)\n"
      ],
      "execution_count": null,
      "outputs": []
    },
    {
      "cell_type": "code",
      "metadata": {
        "id": "E5DoGh4kZXLH",
        "colab_type": "code",
        "colab": {}
      },
      "source": [
        "def update_pair_counts(pair_counts, itemset):\n",
        "    \"\"\"\n",
        "    Updates a dictionary of pair counts for\n",
        "    all pairs of items in a given itemset.\n",
        "    \"\"\"\n",
        "\n",
        "    for (a,b) in combinations(itemset, 2):\n",
        "        pair_counts[(a,b)] += 1\n",
        "        pair_counts[(b,a)] += 1\n",
        " "
      ],
      "execution_count": null,
      "outputs": []
    },
    {
      "cell_type": "code",
      "metadata": {
        "id": "I-_cVTzIZaU-",
        "colab_type": "code",
        "colab": {}
      },
      "source": [
        "def update_item_counts(item_counts, itemset):\n",
        "    \"\"\"\n",
        "    Updates a dictionary of item counts for\n",
        "    all items in a given itemset.\n",
        "    \"\"\"\n",
        "    for i in itemset:\n",
        "        item_counts[i] += 1"
      ],
      "execution_count": null,
      "outputs": []
    },
    {
      "cell_type": "code",
      "metadata": {
        "id": "cxAi-_3zZbSf",
        "colab_type": "code",
        "colab": {}
      },
      "source": [
        "def filter_rules_by_conf (pair_counts, item_counts, threshold, min):\n",
        "    \"\"\"\n",
        "    Find confidence for each pair in pair_counts and \n",
        "    filter according to threshold\n",
        "    \"\"\"\n",
        "    rules = {} \n",
        "    for (a,b) in pair_counts:\n",
        "        conf = pair_counts[(a,b)]/item_counts[a]\n",
        "        if conf>=threshold and item_counts[a]>=min and item_counts[b]>=min:\n",
        "            rules[(a,b)] = conf\n",
        "    return rules"
      ],
      "execution_count": null,
      "outputs": []
    },
    {
      "cell_type": "code",
      "metadata": {
        "id": "vxaelGEpZfaB",
        "colab_type": "code",
        "colab": {}
      },
      "source": [
        "def print_rules(rules):\n",
        "    \"\"\"\n",
        "    Format and print each rule\n",
        "    \"\"\"\n",
        "    if type(rules) is dict or type(rules) is defaultdict:\n",
        "        ordered_rules = sorted(rules.items(), key=itemgetter(1), reverse=True)\n",
        "    else: \n",
        "        ordered_rules = [((a,b), None) for a,b in rules]\n",
        "\n",
        "    for (a,b), conf_ab in ordered_rules:\n",
        "      text = \"{} => {}\".format(a, b)\n",
        "      if conf_ab:\n",
        "        text = \"conf(\" + text + \") = {:.3f}\".format(conf_ab)\n",
        "        print(text)\n",
        "       "
      ],
      "execution_count": null,
      "outputs": []
    },
    {
      "cell_type": "code",
      "metadata": {
        "id": "UZokPYHfZsfp",
        "colab_type": "code",
        "colab": {}
      },
      "source": [
        "#Confidence threshold\n",
        "THRESHOLD = 0.5\n",
        "MIN_COUNT = 10"
      ],
      "execution_count": null,
      "outputs": []
    },
    {
      "cell_type": "code",
      "metadata": {
        "id": "w86YCaRuZnoe",
        "colab_type": "code",
        "colab": {}
      },
      "source": [
        "def find_assoc_rules(data, threshold, min):\n",
        "    \"\"\"\n",
        "    Run the algorithm for finding pair rules\n",
        "    \"\"\"\n",
        "\n",
        "    pc = defaultdict(int)\n",
        "    ic = defaultdict(int)\n",
        "\n",
        "    for itemset in data:\n",
        "        update_pair_counts(pc,itemset)\n",
        "        update_item_counts(ic,itemset)\n",
        "\n",
        "    rules = filter_rules_by_conf(pc,ic,threshold,min)\n",
        "\n",
        "    return rules"
      ],
      "execution_count": null,
      "outputs": []
    },
    {
      "cell_type": "markdown",
      "metadata": {
        "id": "9rZMzToFLviA",
        "colab_type": "text"
      },
      "source": [
        "Finally, we run apriori algorithm. We create a transactions list by splitting along commas the data list we had created earlier. This transaction list is then passed into find_assoc_rules() which retruns the list of valid rules."
      ]
    },
    {
      "cell_type": "code",
      "metadata": {
        "id": "tJsB1Jf9Zu7D",
        "colab_type": "code",
        "colab": {
          "base_uri": "https://localhost:8080/",
          "height": 51
        },
        "outputId": "e537202a-0d2e-455f-9eee-71047448b675"
      },
      "source": [
        "transactions = []\n",
        "\n",
        "for a in data:\n",
        "    transactions.append(set(a.split(',')))\n",
        "\n",
        "\n",
        "print(\"\\nTotal transactions in dataset:\",len(transactions))\n",
        "\n",
        "final_rules = {}\n",
        "final_rules = find_assoc_rules(transactions,THRESHOLD,MIN_COUNT)\n"
      ],
      "execution_count": null,
      "outputs": [
        {
          "output_type": "stream",
          "text": [
            "\n",
            "Total transactions in dataset: 9835\n"
          ],
          "name": "stdout"
        }
      ]
    },
    {
      "cell_type": "markdown",
      "metadata": {
        "id": "d3r_8O0gMHhP",
        "colab_type": "text"
      },
      "source": [
        "We call print_rules() to print our valid rules in **conf(A => B) = c** format. \n",
        "\n",
        "This confidence value means that if a customer has bought A, then they are c% times likely to buy B as well."
      ]
    },
    {
      "cell_type": "code",
      "metadata": {
        "id": "4PduWb-MZ9uN",
        "colab_type": "code",
        "colab": {
          "base_uri": "https://localhost:8080/",
          "height": 374
        },
        "outputId": "6ab384ef-3c99-462e-e787-b46cd7c8716c"
      },
      "source": [
        "print(\"Found {} rules whose confidence exceeds {}.\\n\".format(len(final_rules), THRESHOLD))\n",
        "\n",
        "print_rules(final_rules)\n"
      ],
      "execution_count": null,
      "outputs": [
        {
          "output_type": "stream",
          "text": [
            "Found 19 rules whose confidence exceeds 0.5.\n",
            "\n",
            "conf(honey => whole milk) = 0.733\n",
            "conf(frozen fruits => other vegetables) = 0.667\n",
            "conf(cereals => whole milk) = 0.643\n",
            "conf(rice => whole milk) = 0.613\n",
            "conf(rubbing alcohol => whole milk) = 0.600\n",
            "conf(cocoa drinks => whole milk) = 0.591\n",
            "conf(pudding powder => whole milk) = 0.565\n",
            "conf(jam => whole milk) = 0.547\n",
            "conf(cream => other vegetables) = 0.538\n",
            "conf(cream => sausage) = 0.538\n",
            "conf(baking powder => whole milk) = 0.523\n",
            "conf(tidbits => rolls/buns) = 0.522\n",
            "conf(rice => other vegetables) = 0.520\n",
            "conf(cooking chocolate => whole milk) = 0.520\n",
            "conf(specialty cheese => other vegetables) = 0.500\n",
            "conf(rubbing alcohol => citrus fruit) = 0.500\n",
            "conf(rubbing alcohol => butter) = 0.500\n",
            "conf(ready soups => rolls/buns) = 0.500\n",
            "conf(frozen fruits => whipped/sour cream) = 0.500\n"
          ],
          "name": "stdout"
        }
      ]
    }
  ]
}