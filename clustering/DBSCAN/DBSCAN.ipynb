{
  "nbformat": 4,
  "nbformat_minor": 0,
  "metadata": {
    "colab": {
      "name": "DBSCAN.ipynb",
      "provenance": [],
      "collapsed_sections": []
    },
    "kernelspec": {
      "name": "python3",
      "display_name": "Python 3"
    }
  },
  "cells": [
    {
      "cell_type": "code",
      "metadata": {
        "id": "d2-B_QSQL_oC",
        "colab_type": "code",
        "colab": {}
      },
      "source": [
        "import numpy as np\n",
        "import collections\n",
        "import matplotlib.pyplot as plt\n",
        "import queue\n",
        "from sklearn.datasets import make_moons,make_circles,make_blobs\n"
      ],
      "execution_count": 1,
      "outputs": []
    },
    {
      "cell_type": "code",
      "metadata": {
        "id": "dr9kQRS8Xv8f",
        "colab_type": "code",
        "colab": {}
      },
      "source": [
        "#Define labels\n",
        "NOISE = 0\n",
        "UNASSIGNED = 0\n",
        "core=-1\n",
        "border = -2\n"
      ],
      "execution_count": 2,
      "outputs": []
    },
    {
      "cell_type": "code",
      "metadata": {
        "id": "0ULLwvRCXzwS",
        "colab_type": "code",
        "colab": {}
      },
      "source": [
        "#Find all neighbor points\n",
        "\n",
        "def neighbor_points(data, pointId, radius):\n",
        "    points = []\n",
        "    for i in range(len(data)):\n",
        "        #Euclidian distance using L2 Norm\n",
        "        if np.linalg.norm(data[i] - data[pointId]) <= radius:\n",
        "            points.append(i)\n",
        "    return points"
      ],
      "execution_count": 3,
      "outputs": []
    },
    {
      "cell_type": "code",
      "metadata": {
        "id": "z-gUuM79cwZW",
        "colab_type": "code",
        "colab": {}
      },
      "source": [
        "def dbscan(data, Eps, MinPt):\n",
        "    #initilize all pointlable to unassign\n",
        "    pointlabel  = [UNASSIGNED] * len(data)\n",
        "    pointcount = []\n",
        "    #initilize list for core/noncore point\n",
        "    corepoint=[]\n",
        "    noncore=[]\n",
        "    \n",
        "    #Find all neigbor for all point\n",
        "    for i in range(len(data)):\n",
        "        pointcount.append(neighbor_points(train,i,Eps))\n",
        "    \n",
        "    #Find all core point, edgepoint and noise\n",
        "    for i in range(len(pointcount)):\n",
        "        if (len(pointcount[i])>=MinPt):\n",
        "            pointlabel[i]=core\n",
        "            corepoint.append(i)\n",
        "        else:\n",
        "            noncore.append(i)\n",
        "\n",
        "    for i in noncore:\n",
        "        for j in pointcount[i]:\n",
        "            if j in corepoint:\n",
        "                pointlabel[i]=border\n",
        "                break\n",
        "\n",
        "    cl = 1\n",
        "    #Using a Queue to put all neigbor core point in queue and find neigboir's neigbor\n",
        "    for i in range(len(pointlabel)):\n",
        "        q = queue.Queue()\n",
        "        if (pointlabel[i] == core):\n",
        "            pointlabel[i] = cl\n",
        "            for x in pointcount[i]:\n",
        "                if(pointlabel[x]==core):\n",
        "                    q.put(x)\n",
        "                    pointlabel[x]=cl\n",
        "                elif(pointlabel[x]==border):\n",
        "                    pointlabel[x]=cl\n",
        "            #Stop when all point in Queue has been checked   \n",
        "            while not q.empty():\n",
        "                neighbors = pointcount[q.get()]\n",
        "                for y in neighbors:\n",
        "                    if (pointlabel[y]==core):\n",
        "                        pointlabel[y]=cl\n",
        "                        q.put(y)\n",
        "                    if (pointlabel[y]==border):\n",
        "                        pointlabel[y]=cl            \n",
        "            cl=cl+1 #move to next cluster\n",
        "           \n",
        "    return pointlabel,cl"
      ],
      "execution_count": 13,
      "outputs": []
    },
    {
      "cell_type": "code",
      "metadata": {
        "id": "Mu5iWndOX6Wo",
        "colab_type": "code",
        "colab": {}
      },
      "source": [
        "#Function to plot final result\n",
        "def plotRes(data, clusterRes, clusterNum):\n",
        "  nPoints = len(data)\n",
        "  scatterColors = ['black', 'green', 'brown', 'red', 'purple', 'orange', 'yellow']\n",
        "  for i in range(clusterNum):\n",
        "    if i==0:\n",
        "      #Plot all noise point as blue\n",
        "      color='blue'\n",
        "    else:\n",
        "      color = scatterColors[i % len(scatterColors)]\n",
        "    \n",
        "    x1 = [];  y1 = []\n",
        "    for j in range(nPoints):\n",
        "      if clusterRes[j] == i:\n",
        "        x1.append(data[j, 0])\n",
        "        y1.append(data[j, 1])\n",
        "    plt.scatter(x1, y1, c=color, alpha=1, marker='.')\n"
      ],
      "execution_count": 5,
      "outputs": []
    },
    {
      "cell_type": "code",
      "metadata": {
        "id": "Uyvijf7RMOkR",
        "colab_type": "code",
        "colab": {
          "base_uri": "https://localhost:8080/",
          "height": 301
        },
        "outputId": "ba6fbf85-4549-4ba1-9d1c-b711d08fe288"
      },
      "source": [
        "#Random dataset\n",
        "X, label = make_moons(n_samples=300, noise=0.1)\n",
        "train = X\n",
        "\n",
        "eps = 0.2\n",
        "minptss = 10\n",
        "\n",
        "pointlabel,clusters = dbscan(X,eps,minptss)\n",
        "plotRes(train, pointlabel, clusters)  #Plotting\n",
        "plt.show()\n",
        "\n",
        "\n",
        "print('Epsilon = ' +str(eps)+ ', Minpoints = '+str(minptss))\n",
        "print('Number of clusters: ' + str(clusters-1))\n",
        "\n",
        "\n"
      ],
      "execution_count": 14,
      "outputs": [
        {
          "output_type": "display_data",
          "data": {
            "image/png": "[encoded data removed]",
            "text/plain": [
              "<Figure size 432x288 with 1 Axes>"
            ]
          },
          "metadata": {
            "tags": [],
            "needs_background": "light"
          }
        },
        {
          "output_type": "stream",
          "text": [
            "Epsilon = 0.2, Minpoints = 10\n",
            "Number of clusters: 3\n"
          ],
          "name": "stdout"
        }
      ]
    },
    {
      "cell_type": "code",
      "metadata": {
        "id": "j2gG1Au7XP__",
        "colab_type": "code",
        "colab": {}
      },
      "source": [
        "counter=collections.Counter(pointlabel)\n",
        "for i in range(len(pointlabel)):\n",
        "  outliers = 0\n",
        "  if i not in range(1,cl+1):\n",
        "    outliers = outliers+1\n",
        "print('Outliers : '+str(outliers) +'\\n')"
      ],
      "execution_count": null,
      "outputs": []
    },
    {
      "cell_type": "code",
      "metadata": {
        "id": "OWQPZfWTWn3C",
        "colab_type": "code",
        "colab": {}
      },
      "source": [
        ""
      ],
      "execution_count": null,
      "outputs": []
    }
  ]
}